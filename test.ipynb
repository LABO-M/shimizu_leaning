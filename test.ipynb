{
 "cells": [
  {
   "cell_type": "code",
   "execution_count": null,
   "metadata": {},
   "outputs": [],
   "source": [
    "#東京大学のデータサイエンティスト育成講座 Chapter9.3より\n",
    "#PCA（主成分分析）\n",
    "\n",
    "#教師なし学習の次元圧縮\n",
    "#与えられた特徴量から新たな特徴量（主成分）を作り出し、元の特徴量よりも少ない数の変数（次元）でデータを説明する」手法\n"
   ]
  }
 ],
 "metadata": {
  "kernelspec": {
   "display_name": "myvenv",
   "language": "python",
   "name": "python3"
  },
  "language_info": {
   "name": "python",
   "version": "3.12.3"
  }
 },
 "nbformat": 4,
 "nbformat_minor": 2
}
