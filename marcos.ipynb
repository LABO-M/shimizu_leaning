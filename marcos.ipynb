{
 "cells": [
  {
   "cell_type": "code",
   "execution_count": 12,
   "metadata": {},
   "outputs": [
    {
     "name": "stdout",
     "output_type": "stream",
     "text": [
      "[1.06074674 0.98113209 0.95812117]\n",
      "[[-0.58437383  0.54492509 -0.60130182]\n",
      " [-0.50578521 -0.82403773 -0.25523155]\n",
      " [-0.63457746  0.15497893  0.75716113]]\n",
      "[0.53180789 0.45149325 0.72239509]\n",
      "Calculated Weights:\n",
      " [[ 0.47760137]\n",
      " [ 0.78981688]\n",
      " [-0.26741825]]\n",
      "1.0000000000000002\n"
     ]
    }
   ],
   "source": [
    "import numpy as np\n",
    "import matplotlib.pyplot as plt\n",
    "\n",
    "def pcaWeights(cov, riskDist=None, riskTarget=1.0, normalize=True):\n",
    "    \"\"\"\n",
    "    PCAを用いてリスク配分に基づくポートフォリオの重みベクトルを計算する。\n",
    "    \n",
    "    Parameters:\n",
    "    cov (numpy.ndarray): 資産リターンの共分散行列。\n",
    "    riskDist (numpy.ndarray or None): リスク配分を示すベクトル。指定がない場合は、最後のリスク要素にリスクを集中。\n",
    "    riskTarget (float): ポートフォリオ全体のリスク目標値。デフォルトは1.0。\n",
    "    \n",
    "    Returns:\n",
    "    numpy.ndarray: 計算された重みベクトル。\n",
    "    \"\"\"\n",
    "    # 共分散行列の固有値と固有ベクトルを計算\n",
    "    eVal, eVec = np.linalg.eigh(cov)\n",
    "    \n",
    "    # 固有値を大きい順にソート\n",
    "    indices = eVal.argsort()[::-1]\n",
    "    eVal, eVec = eVal[indices], eVec[:, indices]\n",
    "    print(eVal)\n",
    "    print(eVec)\n",
    "    \n",
    "    # リスク配分が指定されていない場合、最後のリスク要素にリスクを集中\n",
    "    if riskDist is None:\n",
    "        riskDist = np.zeros(cov.shape[0])\n",
    "        riskDist[-1] = 1.0  # 最後のリスク要素に1を設定\n",
    "    \n",
    "    # リスク要素ごとの負荷を計算\n",
    "    loads = riskTarget * (riskDist / eVal)**0.5\n",
    "    print(loads)\n",
    "    \n",
    "    # 重みベクトルを計算\n",
    "    wgths = np.dot(eVec, np.reshape(loads, (-1, 1)))\n",
    "\n",
    "    #総和が1になるように正規化\n",
    "    if normalize:\n",
    "        wgths /= np.sum(wgths)\n",
    "    \n",
    "    # 必要であれば、リスク分布の確認を行う（コメントアウトを解除して使用可能）\n",
    "    # ctr = (loads / riskTarget)**2 * eVal  # リスク分布の確認\n",
    "    # print(ctr)  # 確認用に出力\n",
    "    \n",
    "    return wgths\n",
    "\n",
    "\n",
    "# 3つの資産の共分散行列を定義\n",
    "cov_matrix = np.array([[1, 0.02, 0.04],\n",
    "                       [0.02, 1, 0.03],\n",
    "                       [0.04, 0.03, 1]])\n",
    "\n",
    "riskdist = np.array([0.3, 0.2, 0.5])\n",
    "\n",
    "# PCAを用いて重みベクトルを計算\n",
    "weights = pcaWeights(cov_matrix, riskDist=riskdist)\n",
    "\n",
    "# 計算された重みを表示\n",
    "print(\"Calculated Weights:\\n\", weights)\n",
    "print(np.sum(weights))\n"
   ]
  },
  {
   "cell_type": "code",
   "execution_count": null,
   "metadata": {},
   "outputs": [],
   "source": []
  }
 ],
 "metadata": {
  "kernelspec": {
   "display_name": "myvenv",
   "language": "python",
   "name": "python3"
  },
  "language_info": {
   "codemirror_mode": {
    "name": "ipython",
    "version": 3
   },
   "file_extension": ".py",
   "mimetype": "text/x-python",
   "name": "python",
   "nbconvert_exporter": "python",
   "pygments_lexer": "ipython3",
   "version": "3.12.3"
  }
 },
 "nbformat": 4,
 "nbformat_minor": 2
}
