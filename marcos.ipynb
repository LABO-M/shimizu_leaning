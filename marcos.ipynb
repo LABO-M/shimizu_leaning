{
 "cells": [
  {
   "cell_type": "code",
   "execution_count": 5,
   "metadata": {},
   "outputs": [
    {
     "name": "stdout",
     "output_type": "stream",
     "text": [
      "Calculated Weights:\n",
      " [[ 3.19760045]\n",
      " [ 3.68454319]\n",
      " [-5.88214364]]\n",
      "1.0000000000000009\n"
     ]
    }
   ],
   "source": [
    "import numpy as np\n",
    "\n",
    "def pcaWeights(cov, riskDist=None, riskTarget=1.0, normalize=True):\n",
    "    \"\"\"\n",
    "    PCAを用いてリスク配分に基づくポートフォリオの重みベクトルを計算する。\n",
    "    \n",
    "    Parameters:\n",
    "    cov (numpy.ndarray): 資産リターンの共分散行列。\n",
    "    riskDist (numpy.ndarray or None): リスク配分を示すベクトル。指定がない場合は、最後のリスク要素にリスクを集中。\n",
    "    riskTarget (float): ポートフォリオ全体のリスク目標値。デフォルトは1.0。\n",
    "    \n",
    "    Returns:\n",
    "    numpy.ndarray: 計算された重みベクトル。\n",
    "    \"\"\"\n",
    "    # 共分散行列の固有値と固有ベクトルを計算\n",
    "    eVal, eVec = np.linalg.eigh(cov)\n",
    "    \n",
    "    # 固有値を大きい順にソート\n",
    "    indices = eVal.argsort()[::-1]\n",
    "    eVal, eVec = eVal[indices], eVec[:, indices]\n",
    "    \n",
    "    # リスク配分が指定されていない場合、最後のリスク要素にリスクを集中\n",
    "    if riskDist is None:\n",
    "        riskDist = np.zeros(cov.shape[0])\n",
    "        riskDist[-1] = 1.0  # 最後のリスク要素に1を設定\n",
    "    \n",
    "    # リスク要素ごとの負荷を計算\n",
    "    loads = riskTarget * (riskDist / eVal)**0.5\n",
    "    \n",
    "    # 重みベクトルを計算\n",
    "    wgths = np.dot(eVec, np.reshape(loads, (-1, 1)))\n",
    "\n",
    "    #総和が1になるように正規化\n",
    "    if normalize:\n",
    "        wgths /= np.sum(wgths)\n",
    "    \n",
    "    # 必要であれば、リスク分布の確認を行う（コメントアウトを解除して使用可能）\n",
    "    # ctr = (loads / riskTarget)**2 * eVal  # リスク分布の確認\n",
    "    # print(ctr)  # 確認用に出力\n",
    "    \n",
    "    return wgths\n",
    "\n",
    "\n",
    "# 3つの資産の共分散行列を定義\n",
    "cov_matrix = np.array([[0.1, 0.02, 0.04],\n",
    "                       [0.02, 0.08, 0.03],\n",
    "                       [0.04, 0.03, 0.09]])\n",
    "\n",
    "# PCAを用いて重みベクトルを計算\n",
    "weights = pcaWeights(cov_matrix)\n",
    "\n",
    "# 計算された重みを表示\n",
    "print(\"Calculated Weights:\\n\", weights)\n",
    "print(np.sum(weights))\n"
   ]
  }
 ],
 "metadata": {
  "kernelspec": {
   "display_name": "myvenv",
   "language": "python",
   "name": "python3"
  },
  "language_info": {
   "codemirror_mode": {
    "name": "ipython",
    "version": 3
   },
   "file_extension": ".py",
   "mimetype": "text/x-python",
   "name": "python",
   "nbconvert_exporter": "python",
   "pygments_lexer": "ipython3",
   "version": "3.12.3"
  }
 },
 "nbformat": 4,
 "nbformat_minor": 2
}
